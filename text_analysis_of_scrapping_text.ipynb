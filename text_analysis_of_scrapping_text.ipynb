{
  "cells": [
    {
      "cell_type": "code",
      "execution_count": null,
      "id": "fa366cb9",
      "metadata": {
        "id": "fa366cb9",
        "outputId": "45981738-14bf-47bb-ad68-b6d3772181e8"
      },
      "outputs": [
        {
          "name": "stdout",
          "output_type": "stream",
          "text": [
            "Word count: 1917\n",
            "Sentence count: 10\n",
            "Token count: 4992\n"
          ]
        }
      ],
      "source": [
        "import spacy\n",
        "\n",
        "# Load the spaCy NLP model\n",
        "nlp = spacy.load(\"en_core_web_sm\")\n",
        "\n",
        "# Replace 'text_here' with your extracted text\n",
        "with open(\"C:/Users/manish/articles/https_insights_blackcoffer_com_ai-healthcare-revolution-ml-technology-algorithm-google-analytics-industrialrevolution_.txt\",'r') as f:\n",
        "    text=f.read().strip()\n",
        "    text = str(text).replace('â€','')\n",
        "    text = str(text).replace('\\xa0','')\n",
        "    text = str(text).replace(' ™','')\n",
        "    text = str(text).replace('Â','')\n",
        "    text = str(text).replace('\\n','')\n",
        "\n",
        "\n",
        "    #text=str(text)\n",
        "with open(\"C:/Users/manish/Saved Games/Downloads/StopWords-20231025T104159Z-001/StopWords/StopWords_DatesandNumbers.txt\",'r') as f:\n",
        "    date_number=f.readlines()\n",
        "with open(\"C:/Users/manish/Saved Games/Downloads/StopWords-20231025T104159Z-001/StopWords/StopWords_GenericLong.txt\") as f:\n",
        "    generic_long = f.readlines()\n",
        "with open(\"C:/Users/manish/Saved Games/Downloads/StopWords-20231025T104159Z-001/StopWords/StopWords_Auditor.txt\") as f:\n",
        "    auditor = f.readlines()\n",
        "with open(\"C:/Users/manish/Saved Games/Downloads/StopWords-20231025T104159Z-001/StopWords/StopWords_Currencies.txt\") as f:\n",
        "    currencies = f.readlines()\n",
        "with open(\"C:/Users/manish/Saved Games/Downloads/StopWords-20231025T104159Z-001/StopWords/StopWords_Generic.txt\") as f:\n",
        "    generic = f.readlines()\n",
        "with open(\"C:/Users/manish/Saved Games/Downloads/StopWords-20231025T104159Z-001/StopWords/StopWords_Names.txt\") as f:\n",
        "    names = f.readlines()\n",
        "with open(\"C:/Users/manish/Saved Games/Downloads/StopWords-20231025T104159Z-001/StopWords/StopWords_Geographic.txt\") as f:\n",
        "    geographic = f.readlines()\n",
        "\n",
        "\n",
        "# Process the text with spaCy\n",
        "doc = nlp(text)\n",
        "#doc1=nlp(str(stopwords))\n",
        "#from spacy.lang.en.stop_words import STOP_WORDS\n",
        "# Compute various variables\n",
        "total_number_of_words = len(doc)\n",
        "sentence_count = len(list(doc.sents))\n",
        "token_1 = ([token for token in doc if str(token).lower() not in str(date_number).lower()])\n",
        "token_2 = ([token for token in token_1 if str(token).lower() not in str(generic_long).lower()])\n",
        "token_3 = ([token for token in token_2 if str(token).lower() not in str(auditor).lower()])\n",
        "token_4 = ([token for token in token_3 if str(token).lower() not in str(currencies).lower()])\n",
        "token_5 = ([token for token in token_4 if str(token).lower() not in str(generic).lower()])\n",
        "token_6 = ([token for token in token_5 if str(token).lower() not in str(names).lower()])\n",
        "token_final = ([token for token in token_6 if str(token).lower() not in str(geographic).lower()])\n",
        "token_final = str(token_final).replace(' ™','')\n",
        "token_final = str(token_final).replace('?',',')\n",
        "token_final = str(token_final).replace(',,',',')\n",
        "token_final = str(token_final).replace(', , ',' , ')\n",
        "token_final = str(token_final).replace(' ','')\n",
        "\n",
        "#token_count1= ([token for token in token_count  for word in stopwords if word.lower()!=token.lower()])\n",
        "#average_word_length = sum(len(token.text) for token in doc if not token.is_punct) / token_count\n",
        "\n",
        "# Print the computed variables\n",
        "print(\"Word count:\", word_count)\n",
        "print(\"Sentence count:\", sentence_count)\n",
        "print(\"Token count:\", len(token_final))\n",
        "#print('new token count:',token_count1)\n",
        "#print(\"Average word length:\", average_word_length)\n",
        "\n"
      ]
    },
    {
      "cell_type": "code",
      "execution_count": null,
      "id": "0e23fdad",
      "metadata": {
        "id": "0e23fdad"
      },
      "outputs": [],
      "source": [
        "doc2 = nlp(token_final)"
      ]
    },
    {
      "cell_type": "code",
      "execution_count": null,
      "id": "110dea50",
      "metadata": {
        "id": "110dea50",
        "outputId": "045493b9-0665-4f0e-91e9-119765267348"
      },
      "outputs": [
        {
          "data": {
            "text/plain": [
              "1095"
            ]
          },
          "execution_count": 207,
          "metadata": {},
          "output_type": "execute_result"
        }
      ],
      "source": [
        "total_words_after_cleaning = len(doc2)\n",
        "total_words_after_cleaning"
      ]
    },
    {
      "cell_type": "code",
      "execution_count": null,
      "id": "37816547",
      "metadata": {
        "id": "37816547"
      },
      "outputs": [],
      "source": [
        "with open(\"C:/Users/manish/Saved Games/Downloads/MasterDictionary-20231025T104152Z-001/MasterDictionary/positive-words.txt\") as f:\n",
        "    positive=f.read().split()\n",
        "with open(\"C:/Users/manish/Saved Games/Downloads/MasterDictionary-20231025T104152Z-001/MasterDictionary/negative-words.txt\") as f:\n",
        "    negative = f.read().split()\n"
      ]
    },
    {
      "cell_type": "code",
      "execution_count": null,
      "id": "930aef14",
      "metadata": {
        "id": "930aef14"
      },
      "outputs": [],
      "source": [
        "pos_score = ([word for word in doc2 if str(word).lower() in str(positive) ])\n"
      ]
    },
    {
      "cell_type": "code",
      "execution_count": null,
      "id": "0077cf6e",
      "metadata": {
        "id": "0077cf6e",
        "outputId": "88c0ca76-05be-401f-e1f5-97c3f375df51"
      },
      "outputs": [
        {
          "data": {
            "text/plain": [
              "63"
            ]
          },
          "execution_count": 210,
          "metadata": {},
          "output_type": "execute_result"
        }
      ],
      "source": [
        "positive_score = 0\n",
        "for word in pos_score:\n",
        "    if (word.text) in positive:\n",
        "        positive_score += 1\n",
        "\n",
        "\n",
        "positive_score"
      ]
    },
    {
      "cell_type": "code",
      "execution_count": null,
      "id": "04891582",
      "metadata": {
        "id": "04891582"
      },
      "outputs": [],
      "source": [
        "neg_score = ([word for word in doc2 if str(word).lower() in str(negative) ])"
      ]
    },
    {
      "cell_type": "code",
      "execution_count": null,
      "id": "10733bd5",
      "metadata": {
        "id": "10733bd5",
        "outputId": "5a05d129-db95-449d-ee0f-d10ce0780cb9"
      },
      "outputs": [
        {
          "data": {
            "text/plain": [
              "27"
            ]
          },
          "execution_count": 212,
          "metadata": {},
          "output_type": "execute_result"
        }
      ],
      "source": [
        "negative_score = 0\n",
        "for word in neg_score:\n",
        "    if (word.text) in negative:\n",
        "        negative_score += 1\n",
        "\n",
        "\n",
        "negative_score"
      ]
    },
    {
      "cell_type": "code",
      "execution_count": null,
      "id": "307e6ced",
      "metadata": {
        "id": "307e6ced",
        "outputId": "1618f9b6-8fcb-43ff-a951-bf3ea690d04f"
      },
      "outputs": [
        {
          "data": {
            "text/plain": [
              "0.3999999955555556"
            ]
          },
          "execution_count": 213,
          "metadata": {},
          "output_type": "execute_result"
        }
      ],
      "source": [
        "polarity_score = (positive_score - negative_score)/ ((positive_score + negative_score) +\n",
        "0.000001)\n",
        "polarity_score"
      ]
    },
    {
      "cell_type": "code",
      "execution_count": null,
      "id": "5f9d8daa",
      "metadata": {
        "id": "5f9d8daa",
        "outputId": "5e7b37b8-3000-4962-fe13-693ff481060b"
      },
      "outputs": [
        {
          "data": {
            "text/plain": [
              "0.08219178074685682"
            ]
          },
          "execution_count": 214,
          "metadata": {},
          "output_type": "execute_result"
        }
      ],
      "source": [
        "subjectivity_score = (positive_score + negative_score)/ ((total_words_after_cleaning) +\n",
        "0.000001)\n",
        "subjectivity_score"
      ]
    },
    {
      "cell_type": "markdown",
      "id": "882bdcb9",
      "metadata": {
        "id": "882bdcb9"
      },
      "source": [
        "# Analysis of Readability"
      ]
    },
    {
      "cell_type": "code",
      "execution_count": null,
      "id": "b9b094b6",
      "metadata": {
        "id": "b9b094b6",
        "outputId": "794c9b67-9ac3-4534-c898-bb02ed7cf7fa"
      },
      "outputs": [
        {
          "data": {
            "text/plain": [
              "191.7"
            ]
          },
          "execution_count": 215,
          "metadata": {},
          "output_type": "execute_result"
        }
      ],
      "source": [
        "average_sentence_length = total_number_of_words/sentence_count\n",
        "average_sentence_length"
      ]
    },
    {
      "cell_type": "markdown",
      "id": "f660d76b",
      "metadata": {
        "id": "f660d76b"
      },
      "source": [
        "# complex words"
      ]
    },
    {
      "cell_type": "code",
      "execution_count": null,
      "id": "9921a266",
      "metadata": {
        "id": "9921a266",
        "outputId": "1b2709ab-dcdd-483b-a22b-b5ed257d0da9"
      },
      "outputs": [
        {
          "name": "stderr",
          "output_type": "stream",
          "text": [
            "[nltk_data] Downloading package cmudict to\n",
            "[nltk_data]     C:\\Users\\manish\\AppData\\Roaming\\nltk_data...\n",
            "[nltk_data]   Package cmudict is already up-to-date!\n"
          ]
        }
      ],
      "source": [
        "import nltk\n",
        "from nltk.corpus import cmudict\n",
        "\n",
        "nltk.download(\"cmudict\")\n",
        "d = cmudict.dict()\n",
        "\n",
        "def count_syllables(word):\n",
        "    if word.lower() in d:\n",
        "        return max([len(list(y for y in x if y[-1].isdigit())) for x in d[word.lower()]])\n",
        "    else:\n",
        "        # Handle cases where the word is not in the CMU Pronouncing Dictionary\n",
        "        return len([char for char in word.lower() if char in 'aeiouy'])\n",
        "\n",
        "# Function to determine if a word is complex and return its syllable count\n",
        "def count_complex_words(text):\n",
        "    # Tokenize the text into words\n",
        "    words = nltk.word_tokenize(text)\n",
        "\n",
        "    complex_word_count = 0\n",
        "    syllable_count_dict = {}\n",
        "\n",
        "    for word in words:\n",
        "        # Check for exceptions (words ending with 'es' or 'ed')\n",
        "        if word.lower().endswith(\"es\") or word.lower().endswith(\"ed\"):\n",
        "            syllable_count = count_syllables(word) - 1\n",
        "        else:\n",
        "            syllable_count = count_syllables(word)\n",
        "\n",
        "        if syllable_count > 2:  # Adjust the syllable threshold as needed\n",
        "            complex_word_count += 1\n",
        "\n",
        "        syllable_count_dict[word] = syllable_count\n",
        "\n",
        "    return complex_word_count, syllable_count_dict\n",
        "\n",
        "# Sample text\n",
        "#text = \"This is a sample sentence with multiple complex words like 'unexpected' and 'realized'.\"\n",
        "\n",
        "# Count complex words and syllables, and store the results in variables\n",
        "complex_word_count, syllable_count_dict = count_complex_words(str(doc))\n",
        "\n",
        "# Print the results\n",
        "#print(\"Number of complex words:\", complex_word_count)\n",
        "number_of_complex_words = complex_word_count\n",
        "#print(\"Syllable counts for each word:\")\n",
        "#for word, syllables in syllable_count_dict.items():\n",
        "    #print(f\"{word}: {syllables} syllables\")"
      ]
    },
    {
      "cell_type": "code",
      "execution_count": null,
      "id": "b921ecd4",
      "metadata": {
        "id": "b921ecd4",
        "outputId": "8f364e99-d587-4c25-cc9e-3ff7a1f3df21"
      },
      "outputs": [
        {
          "name": "stdout",
          "output_type": "stream",
          "text": [
            "272\n"
          ]
        }
      ],
      "source": [
        "print(number_of_complex_words)"
      ]
    },
    {
      "cell_type": "code",
      "execution_count": null,
      "id": "4545e908",
      "metadata": {
        "id": "4545e908",
        "outputId": "a045e039-af12-4ec9-a126-9f84abdd1d01"
      },
      "outputs": [
        {
          "data": {
            "text/plain": [
              "0.14188836724047993"
            ]
          },
          "execution_count": 228,
          "metadata": {},
          "output_type": "execute_result"
        }
      ],
      "source": [
        "percentage_of_complex_words = number_of_complex_words/total_number_of_words\n",
        "percentage_of_complex_words"
      ]
    },
    {
      "cell_type": "code",
      "execution_count": null,
      "id": "98401279",
      "metadata": {
        "id": "98401279",
        "outputId": "28ad38a9-582a-4989-ed68-13f8b07d3fb9"
      },
      "outputs": [
        {
          "data": {
            "text/plain": [
              "76.73675534689619"
            ]
          },
          "execution_count": 229,
          "metadata": {},
          "output_type": "execute_result"
        }
      ],
      "source": [
        "fog_index = 0.4 * (average_sentence_length + percentage_of_complex_words)\n",
        "fog_index"
      ]
    },
    {
      "cell_type": "markdown",
      "id": "c462bb31",
      "metadata": {
        "id": "c462bb31"
      },
      "source": [
        "# Average Number of Words Per Sentence"
      ]
    },
    {
      "cell_type": "code",
      "execution_count": null,
      "id": "51cf4ab2",
      "metadata": {
        "id": "51cf4ab2",
        "outputId": "226b80bf-8c9d-4b2e-a32e-87d27aa0db33"
      },
      "outputs": [
        {
          "data": {
            "text/plain": [
              "191.7"
            ]
          },
          "execution_count": 230,
          "metadata": {},
          "output_type": "execute_result"
        }
      ],
      "source": [
        "avg_num_of_words_per_sentence = total_number_of_words/sentence_count\n",
        "avg_num_of_words_per_sentence"
      ]
    },
    {
      "cell_type": "markdown",
      "id": "127c3afe",
      "metadata": {
        "id": "127c3afe"
      },
      "source": [
        "# Word Count"
      ]
    },
    {
      "cell_type": "code",
      "execution_count": null,
      "id": "689bb065",
      "metadata": {
        "id": "689bb065",
        "outputId": "86dbab23-596b-4ca5-d3ad-594060f919dc"
      },
      "outputs": [
        {
          "data": {
            "text/plain": [
              "1095"
            ]
          },
          "execution_count": 231,
          "metadata": {},
          "output_type": "execute_result"
        }
      ],
      "source": [
        "total_words_after_cleaning"
      ]
    },
    {
      "cell_type": "markdown",
      "id": "f09c7bb7",
      "metadata": {
        "id": "f09c7bb7"
      },
      "source": [
        "# Syllable Count Per Word"
      ]
    },
    {
      "cell_type": "code",
      "execution_count": null,
      "id": "ea487b21",
      "metadata": {
        "scrolled": false,
        "id": "ea487b21",
        "outputId": "1d528ede-a984-4a4b-b3db-5548dabf2e68"
      },
      "outputs": [
        {
          "name": "stdout",
          "output_type": "stream",
          "text": [
            "Syllable counts for each word:\n",
            "Title: 2 syllables\n",
            ":: 0 syllables\n",
            "How: 1 syllables\n",
            "AI: 2 syllables\n",
            "will: 1 syllables\n",
            "impact: 2 syllables\n",
            "the: 1 syllables\n",
            "future: 2 syllables\n",
            "of: 1 syllables\n",
            "work: 1 syllables\n",
            "?: 0 syllables\n",
            "-: 0 syllables\n",
            "Blackcoffer: 3 syllables\n",
            "InsightsArticle: 5 syllables\n",
            "Text: 1 syllables\n",
            "experts: 2 syllables\n",
            "believe: 2 syllables\n",
            "it™s: 1 syllables\n",
            "going: 2 syllables\n",
            "to: 1 syllables\n",
            "be: 1 syllables\n",
            "one: 1 syllables\n",
            "main: 1 syllables\n",
            "drivers: 2 syllables\n",
            "fourth: 1 syllables\n",
            "Industrial: 4 syllables\n",
            "Revolution: 4 syllables\n",
            "and: 1 syllables\n",
            "that: 1 syllables\n",
            "it: 1 syllables\n",
            "has: 1 syllables\n",
            "potential: 3 syllables\n",
            "not: 1 syllables\n",
            "just: 1 syllables\n",
            "transform: 2 syllables\n",
            "tech: 1 syllables\n",
            "sectors: 2 syllables\n",
            "open: 2 syllables\n",
            "a: 1 syllables\n",
            "new: 1 syllables\n",
            "chapter: 2 syllables\n",
            "society: 4 syllables\n",
            "world: 1 syllables\n",
            "people: 2 syllables\n",
            "try: 1 syllables\n",
            "understand: 3 syllables\n",
            "themselves: 1 syllables\n",
            "better: 2 syllables\n",
            "rather: 2 syllables\n",
            "than: 1 syllables\n",
            "outside: 2 syllables\n",
            "with: 1 syllables\n",
            "because: 2 syllables\n",
            "who: 1 syllables\n",
            "are: 1 syllables\n",
            "naysayer: 3 syllables\n",
            "kind: 1 syllables\n",
            "drum: 1 syllables\n",
            "up: 1 syllables\n",
            "these: 1 syllables\n",
            "doomsday: 2 syllables\n",
            "scenarios: 4 syllables\n",
            "pretty: 2 syllables\n",
            "irresponsible: 5 syllables\n",
            ".: 0 syllables\n",
            "After: 2 syllables\n",
            "all: 1 syllables\n",
            ",: 0 syllables\n",
            "In: 1 syllables\n",
            "next: 1 syllables\n",
            "five: 1 syllables\n",
            "ten: 1 syllables\n",
            "years: 1 syllables\n",
            "is: 1 syllables\n",
            "deliver: 3 syllables\n",
            "so: 1 syllables\n",
            "many: 2 syllables\n",
            "improvements: 3 syllables\n",
            "quality: 3 syllables\n",
            "our: 2 syllables\n",
            "lives: 0 syllables\n",
            "renaissance: 3 syllables\n",
            "golden: 2 syllables\n",
            "age: 1 syllables\n",
            "machine-: 3 syllables\n",
            "learning: 2 syllables\n",
            "artificial: 4 syllables\n",
            "intelligence: 4 syllables\n",
            "was: 1 syllables\n",
            "realm: 1 syllables\n",
            "science: 2 syllables\n",
            "fiction: 2 syllables\n",
            "for: 1 syllables\n",
            "last: 1 syllables\n",
            "several: 3 syllables\n",
            "decades: 1 syllables\n",
            "probably: 3 syllables\n",
            "most: 1 syllables\n",
            "important: 3 syllables\n",
            "thing: 1 syllables\n",
            "humanities: 3 syllables\n",
            "have: 1 syllables\n",
            "ever: 2 syllables\n",
            "worked: 0 syllables\n",
            "which: 1 syllables\n",
            "more: 1 syllables\n",
            "profound: 2 syllables\n",
            "any: 2 syllables\n",
            "technology: 4 syllables\n",
            "as: 1 syllables\n",
            "harness: 2 syllables\n",
            "benefits: 3 syllables\n",
            "while: 1 syllables\n",
            "minimizing: 4 syllables\n",
            "downside: 2 syllables\n",
            "focusing: 3 syllables\n",
            "on: 1 syllables\n",
            "autonomous: 4 syllables\n",
            "systems: 2 syllables\n",
            "like: 1 syllables\n",
            "self-driving: 3 syllables\n",
            "cars: 1 syllables\n",
            "seen: 1 syllables\n",
            "mother: 2 syllables\n",
            "projects: 2 syllables\n",
            "made: 1 syllables\n",
            "applications: 4 syllables\n",
            "viable: 3 syllables\n",
            "first: 1 syllables\n",
            "time: 1 syllables\n",
            "three: 1 syllables\n",
            "things: 1 syllables\n",
            "happen: 2 syllables\n",
            "at: 1 syllables\n",
            "same: 1 syllables\n",
            "number: 2 syllables\n",
            "data: 2 syllables\n",
            "collection: 3 syllables\n",
            "processing: 3 syllables\n",
            "became: 2 syllables\n",
            "easier: 3 syllables\n",
            "technologies: 3 syllables\n",
            "right: 1 syllables\n",
            "um: 1 syllables\n",
            "you: 1 syllables\n",
            "need: 0 syllables\n",
            "fuel: 2 syllables\n",
            "training: 2 syllables\n",
            "that™s: 1 syllables\n",
            "been: 1 syllables\n",
            "big: 1 syllables\n",
            "second: 2 syllables\n",
            "happened: 1 syllables\n",
            "computer: 3 syllables\n",
            "become: 2 syllables\n",
            "faster: 2 syllables\n",
            "engine: 2 syllables\n",
            "no: 1 syllables\n",
            "matter: 2 syllables\n",
            "how: 1 syllables\n",
            "much: 1 syllables\n",
            "if: 1 syllables\n",
            "don™t: 1 syllables\n",
            "timeframe: 2 syllables\n",
            "reasonable: 4 syllables\n",
            "possible: 3 syllables\n",
            "third: 1 syllables\n",
            "algorithms: 4 syllables\n",
            "developed: 2 syllables\n",
            "powerful: 3 syllables\n",
            "#: 0 syllables\n",
            "changing: 2 syllables\n",
            "developing: 4 syllables\n",
            "pace: 1 syllables\n",
            "before: 2 syllables\n",
            "we: 1 syllables\n",
            "used: 0 syllables\n",
            "this: 1 syllables\n",
            "rapid: 2 syllables\n",
            "change: 1 syllables\n",
            "means: 1 syllables\n",
            "thinking: 2 syllables\n",
            "about: 2 syllables\n",
            "immediate: 4 syllables\n",
            "The: 1 syllables\n",
            "factor: 2 syllables\n",
            "responsible: 4 syllables\n",
            "growth: 1 syllables\n",
            "Google: 3 syllables\n",
            "its: 1 syllables\n",
            "what: 1 syllables\n",
            "Google™s: 3 syllables\n",
            "done: 1 syllables\n",
            "given: 2 syllables\n",
            "us: 2 syllables\n",
            "power: 2 syllables\n",
            "get: 1 syllables\n",
            "relevant: 3 syllables\n",
            "information: 4 syllables\n",
            "want: 1 syllables\n",
            "fingertips: 3 syllables\n",
            "created: 2 syllables\n",
            "shift: 1 syllables\n",
            "in: 1 syllables\n",
            "bought: 1 syllables\n",
            "but: 1 syllables\n",
            "didn™t: 1 syllables\n",
            "overnight: 3 syllables\n",
            "started: 1 syllables\n",
            "2004: 0 syllables\n",
            "major: 2 syllables\n",
            "only: 2 syllables\n",
            "happens: 2 syllables\n",
            "start: 1 syllables\n",
            "2012: 0 syllables\n",
            "onwards: 2 syllables\n",
            "taken: 2 syllables\n",
            "away: 2 syllables\n",
            "65: 0 syllables\n",
            "%: 0 syllables\n",
            "sales: 0 syllables\n",
            "people™s: 3 syllables\n",
            "jobs: 1 syllables\n",
            "were: 1 syllables\n",
            "primarily: 4 syllables\n",
            "order: 2 syllables\n",
            "takers: 2 syllables\n",
            "ones: 0 syllables\n",
            "remaining: 3 syllables\n",
            "likely: 2 syllables\n",
            "gone: 1 syllables\n",
            "over: 2 syllables\n",
            "decade.In: 4 syllables\n",
            "present: 2 syllables\n",
            "helping: 2 syllables\n",
            "diagnosing: 4 syllables\n",
            "diseases: 2 syllables\n",
            "match: 1 syllables\n",
            "drugs: 1 syllables\n",
            "depending: 3 syllables\n",
            "they™re: 3 syllables\n",
            "sick: 1 syllables\n",
            "they: 1 syllables\n",
            "can: 1 syllables\n",
            "treated: 1 syllables\n",
            "help: 1 syllables\n",
            "whole: 1 syllables\n",
            "lot: 1 syllables\n",
            "healthcare: 2 syllables\n",
            "would: 1 syllables\n",
            "had: 1 syllables\n",
            "access: 2 syllables\n",
            "look: 1 syllables\n",
            "safer: 2 syllables\n",
            "driving: 2 syllables\n",
            "value: 2 syllables\n",
            "machine: 2 syllables\n",
            "providing: 3 syllables\n",
            "actually: 4 syllables\n",
            "happening: 3 syllables\n",
            "beneath: 2 syllables\n",
            "surface: 2 syllables\n",
            "improved: 1 syllables\n",
            "search: 1 syllables\n",
            "results: 2 syllables\n",
            "product: 2 syllables\n",
            "recommendations: 5 syllables\n",
            "customers: 3 syllables\n",
            "improve: 2 syllables\n",
            "forecasting: 3 syllables\n",
            "inventory: 4 syllables\n",
            "management: 3 syllables\n",
            "literally: 4 syllables\n",
            "hundreds: 2 syllables\n",
            "other: 2 syllables\n",
            "including: 3 syllables\n",
            "speech-recognition: 7 syllables\n",
            "or: 1 syllables\n",
            "image-recognition: 8 syllables\n",
            "performance: 3 syllables\n",
            "levels: 2 syllables\n",
            "phenomenal: 4 syllables\n",
            "drug: 1 syllables\n",
            "discovery: 4 syllables\n",
            "biological: 5 syllables\n",
            "very: 2 syllables\n",
            "complicated: 3 syllables\n",
            "vaccines: 1 syllables\n",
            "TB: 2 syllables\n",
            "HIV: 1 syllables\n",
            "notably: 3 syllables\n",
            "enabled: 2 syllables\n",
            "by: 1 syllables\n",
            "rich: 1 syllables\n",
            "advanced: 1 syllables\n",
            "biology: 4 syllables\n",
            "recent: 2 syllables\n",
            "invention: 3 syllables\n",
            "an: 1 syllables\n",
            "application: 4 syllables\n",
            "launched: 0 syllables\n",
            "anybody: 4 syllables\n",
            "visual: 3 syllables\n",
            "impairment: 3 syllables\n",
            "ass: 1 syllables\n",
            "uses: 1 syllables\n",
            "latest: 2 syllables\n",
            "cutting-edge: 4 syllables\n",
            "vision: 2 syllables\n",
            "give: 1 syllables\n",
            "anyone: 3 syllables\n",
            "ability: 4 syllables\n",
            "see: 1 syllables\n",
            "dyslexia: 4 syllables\n",
            "now: 1 syllables\n",
            "use: 1 syllables\n",
            "able: 2 syllables\n",
            "read: 1 syllables\n",
            "release: 2 syllables\n",
            "Windows: 2 syllables\n",
            "10: 0 syllables\n",
            "capability: 5 syllables\n",
            "called: 0 syllables\n",
            "IJ™s: 1 syllables\n",
            "enable: 3 syllables\n",
            "eye: 1 syllables\n",
            "muscle: 2 syllables\n",
            "gaze: 1 syllables\n",
            "type: 1 syllables\n",
            "Like: 1 syllables\n",
            "two: 1 syllables\n",
            "sides: 0 syllables\n",
            "coin: 1 syllables\n",
            "there: 1 syllables\n",
            "negative: 3 syllables\n",
            "impacts: 2 syllables\n",
            "well: 1 syllables\n",
            "Bill: 1 syllables\n",
            "Gates: 0 syllables\n",
            "Ellen: 2 syllables\n",
            "Musk: 1 syllables\n",
            "also: 2 syllables\n",
            "giants: 2 syllables\n",
            "way: 1 syllables\n",
            "their: 1 syllables\n",
            "views: 1 syllables\n",
            "pessimistic: 4 syllables\n",
            "say: 1 syllables\n",
            "least: 1 syllables\n",
            "warned: 0 syllables\n",
            "against: 2 syllables\n",
            "replace: 2 syllables\n",
            "humans: 2 syllables\n",
            "workplace: 2 syllables\n",
            "Ella: 2 syllables\n",
            "masks: 1 syllables\n",
            "even: 2 syllables\n",
            "went: 1 syllables\n",
            "far: 1 syllables\n",
            "claim: 1 syllables\n",
            "biggest: 2 syllables\n",
            "existential: 4 syllables\n",
            "threat: 1 syllables\n",
            "mankind: 2 syllables\n",
            "loss: 1 syllables\n",
            "job: 1 syllables\n",
            "when: 1 syllables\n",
            "think: 1 syllables\n",
            "career: 2 syllables\n",
            "choice: 1 syllables\n",
            "majority: 4 syllables\n",
            "tasks: 1 syllables\n",
            "comprise: 2 syllables\n",
            "vulnerable: 4 syllables\n",
            "then: 1 syllables\n",
            "risk: 1 syllables\n",
            "find: 1 syllables\n",
            "hard: 1 syllables\n",
            "do: 1 syllables\n",
            "anything: 3 syllables\n",
            "unpredictable: 5 syllables\n",
            "requires: 2 syllables\n",
            "skills: 1 syllables\n",
            "creative: 3 syllables\n",
            "empathy: 3 syllables\n",
            "interpersonal: 5 syllables\n",
            "tomorrow: 3 syllables\n",
            "whether: 2 syllables\n",
            "progress: 2 syllables\n",
            "know: 1 syllables\n",
            "nature: 2 syllables\n",
            "evolve: 2 syllables\n",
            "particular: 4 syllables\n",
            "fact: 1 syllables\n",
            "bring: 1 syllables\n",
            "empowerment: 4 syllables\n",
            "inclusiveness: 4 syllables\n",
            "clear-eyed: 4 syllables\n",
            "displacement: 3 syllables\n",
            "unintended: 3 syllables\n",
            "consequences: 3 syllables\n",
            "both: 1 syllables\n",
            "create: 2 syllables\n",
            "policy: 3 syllables\n",
            "decisions: 3 syllables\n",
            "go: 1 syllables\n",
            "through: 1 syllables\n",
            "already: 3 syllables\n",
            "unhappy: 3 syllables\n",
            "innovative: 4 syllables\n",
            "enough: 2 syllables\n",
            "your: 1 syllables\n",
            "taking: 2 syllables\n",
            "machines: 1 syllables\n",
            "business: 2 syllables\n",
            "affect: 2 syllables\n",
            "specifically: 4 syllables\n",
            "being: 2 syllables\n",
            "automation: 4 syllables\n",
            "wide: 1 syllables\n",
            "dissonance: 3 syllables\n",
            "different: 3 syllables\n",
            "reports: 2 syllables\n",
            "shared: 0 syllables\n",
            "Oxford: 2 syllables\n",
            "study: 2 syllables\n",
            "says: 1 syllables\n",
            "47: 0 syllables\n",
            "US: 2 syllables\n",
            "few: 1 syllables\n",
            "meanwhile: 2 syllables\n",
            "general: 3 syllables\n",
            "population: 4 syllables\n",
            "workers: 2 syllables\n",
            "differently: 4 syllables\n",
            "conducted: 2 syllables\n",
            "college: 2 syllables\n",
            "identifies: 3 syllables\n",
            "97: 0 syllables\n",
            "automated: 3 syllables\n",
            "own: 1 syllables\n",
            "suggests: 2 syllables\n",
            "public: 2 syllables\n",
            "needs: 1 syllables\n",
            "educated: 3 syllables\n",
            "susceptible: 4 syllables\n",
            "businesses: 2 syllables\n",
            "aware: 2 syllables\n",
            "forthcoming: 3 syllables\n",
            "gap: 1 syllables\n",
            "course: 1 syllables\n",
            "equal: 2 syllables\n",
            "highlights: 2 syllables\n",
            "examined: 2 syllables\n",
            "700: 0 syllables\n",
            "participants: 4 syllables\n",
            "found: 1 syllables\n",
            "generalist: 4 syllables\n",
            "occupations: 4 syllables\n",
            "require: 3 syllables\n",
            "knowledge: 2 syllables\n",
            "innovation: 4 syllables\n",
            "true: 1 syllables\n",
            "education: 4 syllables\n",
            "media: 3 syllables\n",
            "arts: 1 syllables\n",
            "flip: 1 syllables\n",
            "side: 1 syllables\n",
            "telemarketers: 5 syllables\n",
            "junior: 2 syllables\n",
            "lawyers: 2 syllables\n",
            "accountants: 3 syllables\n",
            "short: 1 syllables\n",
            "simple: 2 syllables\n",
            "rule: 1 syllables\n",
            "thumb: 1 syllables\n",
            "some: 1 syllables\n",
            "predictable: 4 syllables\n",
            "routine: 2 syllables\n",
            "higher: 2 syllables\n",
            "doesn™t: 2 syllables\n",
            "creativity: 5 syllables\n",
            "return: 2 syllables\n",
            "investment: 3 syllables\n",
            "companies: 2 syllables\n",
            "real-time: 4 syllables\n",
            "employees: 2 syllables\n",
            "can™t: 1 syllables\n",
            "distracted: 2 syllables\n",
            "24/7: 0 syllables\n",
            "good: 1 syllables\n",
            "marketers: 3 syllables\n",
            "serve: 1 syllables\n",
            "augment: 2 syllables\n",
            "substituting: 4 syllables\n",
            "them: 1 syllables\n",
            "emerging: 3 syllables\n",
            "economy: 4 syllables\n",
            "stated: 1 syllables\n",
            "content: 2 syllables\n",
            "from: 1 syllables\n",
            "beginning: 3 syllables\n",
            "end: 1 syllables\n",
            "2030: 0 syllables\n",
            "write: 1 syllables\n",
            "high: 1 syllables\n",
            "school: 1 syllables\n",
            "essays: 2 syllables\n",
            "code: 1 syllables\n",
            "Python: 2 syllables\n",
            "composed: 1 syllables\n",
            "top: 1 syllables\n",
            "40s: 0 syllables\n",
            "chart: 1 syllables\n",
            "songs: 1 syllables\n",
            "make: 1 syllables\n",
            "videos: 3 syllables\n",
            "advancements: 3 syllables\n",
            "come: 1 syllables\n",
            "risks: 1 syllables\n",
            "costs: 1 syllables\n",
            "take: 1 syllables\n",
            "report: 2 syllables\n",
            "global: 2 syllables\n",
            "Commission: 3 syllables\n",
            "absence: 2 syllables\n",
            "effective: 3 syllables\n",
            "transition: 3 syllables\n",
            "policies: 2 syllables\n",
            "accept: 2 syllables\n",
            "lower: 2 syllables\n",
            "skilled: 0 syllables\n",
            "paying: 2 syllables\n",
            "high-skilled: 2 syllables\n",
            "less: 1 syllables\n",
            "cognitively: 5 syllables\n",
            "demanding: 3 syllables\n",
            "displacing: 3 syllables\n",
            "technological: 5 syllables\n",
            "dividends: 3 syllables\n",
            "unevenly: 4 syllables\n",
            "distributed: 3 syllables\n",
            "among: 2 syllables\n",
            "firms: 1 syllables\n",
            "limited: 2 syllables\n",
            "amount: 2 syllables\n",
            "tend: 1 syllables\n",
            "dominate: 3 syllables\n",
            "comes: 0 syllables\n",
            "Facebook: 4 syllables\n",
            "today: 2 syllables\n",
            "alone: 2 syllables\n",
            "70: 0 syllables\n",
            "referral: 3 syllables\n",
            "marketing: 3 syllables\n",
            "traffic: 2 syllables\n",
            "receive: 2 syllables\n",
            "50: 0 syllables\n",
            "total: 2 syllables\n",
            "advertising: 4 syllables\n",
            "budget: 2 syllables\n",
            "question: 2 syllables\n",
            "social: 2 syllables\n",
            "institutions: 4 syllables\n",
            "into: 2 syllables\n",
            "direction: 3 syllables\n",
            "leaders: 2 syllables\n",
            "evolving: 3 syllables\n",
            "landscape: 2 syllables\n",
            "workforce: 2 syllables\n",
            "anticipate: 4 syllables\n",
            "upcoming: 3 syllables\n",
            "challenges: 2 syllables\n",
            "demographic: 4 syllables\n",
            "changes: 1 syllables\n",
            "leading: 2 syllables\n",
            "smaller: 2 syllables\n",
            "compared: 1 syllables\n",
            "previous: 3 syllables\n",
            "generation: 4 syllables\n",
            "pursue: 2 syllables\n",
            "careers: 2 syllables\n",
            "during: 2 syllables\n",
            "provide: 2 syllables\n",
            "environment: 4 syllables\n",
            "where: 1 syllables\n",
            "continuously: 5 syllables\n",
            "upskill: 2 syllables\n",
            "grow: 1 syllables\n",
            "governments: 3 syllables\n",
            "re-evaluate: 6 syllables\n",
            "educational: 5 syllables\n",
            "system: 2 syllables\n",
            "learn: 1 syllables\n",
            "redesign: 3 syllables\n",
            "structure: 2 syllables\n",
            "culture: 2 syllables\n",
            "around: 2 syllables\n",
            "heading: 2 syllables\n",
            "great: 1 syllables\n",
            "transformation: 4 syllables\n",
            "we™re: 2 syllables\n",
            "2022: 0 syllables\n",
            "estimated: 3 syllables\n",
            "20: 0 syllables\n",
            "25: 0 syllables\n",
            "percent: 2 syllables\n",
            "labor: 2 syllables\n",
            "force: 1 syllables\n",
            "displaced: 1 syllables\n",
            "within: 2 syllables\n",
            "however: 3 syllables\n",
            "opportunity: 5 syllables\n",
            "ahead: 2 syllables\n",
            "ways: 1 syllables\n",
            "attract: 2 syllables\n",
            "retain: 2 syllables\n",
            "highly: 2 syllables\n",
            "allow: 2 syllables\n",
            "skill: 1 syllables\n",
            "hours: 2 syllables\n",
            "develop: 3 syllables\n",
            "community: 4 syllables\n",
            "benefit: 3 syllables\n",
            "each: 1 syllables\n",
            "supplement: 3 syllables\n",
            "goal: 1 syllables\n",
            "tracking: 2 syllables\n",
            "efforts: 2 syllables\n",
            "instead: 2 syllables\n",
            "distraction: 3 syllables\n",
            "doing: 2 syllables\n",
            "bridge: 1 syllables\n",
            "imperative: 4 syllables\n",
            "build: 1 syllables\n",
            "map: 1 syllables\n",
            "industry: 3 syllables\n",
            "company: 3 syllables\n",
            "economic: 4 syllables\n",
            "feel: 1 syllables\n",
            "committing: 3 syllables\n",
            "itself: 2 syllables\n",
            "lifelong: 2 syllables\n",
            "approach: 2 syllables\n",
            "upfront: 2 syllables\n",
            "ethical: 3 syllables\n",
            "charters: 2 syllables\n",
            "safety: 2 syllables\n",
            "transparent: 3 syllables\n",
            "perceive: 2 syllables\n",
            "figure: 2 syllables\n",
            "out: 1 syllables\n",
            "frameworks: 3 syllables\n",
            "engage: 2 syllables\n",
            "Paris: 2 syllables\n",
            "agreement: 3 syllables\n",
            "climate: 2 syllables\n",
            "using: 2 syllables\n",
            "such: 1 syllables\n",
            "forums: 2 syllables\n",
            "together: 3 syllables\n",
            "questions: 2 syllables\n",
            "emerge: 2 syllables\n",
            "answers: 2 syllables\n",
            "rare: 1 syllables\n",
            "case: 1 syllables\n",
            "proactive: 3 syllables\n",
            "regulation: 4 syllables\n",
            "reactive: 3 syllables\n",
            "I: 1 syllables\n",
            "too: 1 syllables\n",
            "late: 1 syllables\n",
            "solve: 1 syllables\n",
            "incredibly: 4 syllables\n",
            "complex: 2 syllables\n",
            "problem: 2 syllables\n",
            "beyond: 2 syllables\n",
            "human: 2 syllables\n",
            "mere: 1 syllables\n",
            "enormous: 3 syllables\n",
            "set: 1 syllables\n",
            "brilliant: 2 syllables\n",
            "correlations: 4 syllables\n",
            "insights: 2 syllables\n",
            "threaten: 2 syllables\n",
            "anytime: 3 syllables\n",
            "soon: 1 syllables\n",
            "fish: 1 syllables\n",
            "intelligent: 4 syllables\n",
            "isn™t: 1 syllables\n",
            "terrible: 3 syllables\n",
            "smart: 1 syllables\n",
            "complete: 2 syllables\n",
            "toolbox: 2 syllables\n",
            "prepared: 1 syllables\n",
            "volatility: 5 syllables\n",
            "adaptability: 6 syllables\n"
          ]
        }
      ],
      "source": [
        "print(\"Syllable counts for each word:\")\n",
        "for word, syllables in syllable_count_dict.items():\n",
        "    print(f\"{word}: {syllables} syllables\")"
      ]
    },
    {
      "cell_type": "markdown",
      "id": "e39e0e62",
      "metadata": {
        "id": "e39e0e62"
      },
      "source": [
        "# Personal pronouns\n"
      ]
    },
    {
      "cell_type": "code",
      "execution_count": null,
      "id": "82b220e9",
      "metadata": {
        "id": "82b220e9",
        "outputId": "99ffef4a-f0ee-46c8-a7c3-1e1ed41eebe1"
      },
      "outputs": [
        {
          "name": "stdout",
          "output_type": "stream",
          "text": [
            "I: 665\n",
            "we: 23\n",
            "my: 1\n",
            "ours: 2\n",
            "us: 41\n"
          ]
        }
      ],
      "source": [
        "import re\n",
        "\n",
        "# Sample text\n",
        "text = str(doc)\n",
        "\n",
        "# Define the list of personal pronouns\n",
        "personal_pronouns = [\"I\", \"we\", \"my\", \"ours\", \"us\"]\n",
        "\n",
        "# Create a regex pattern to match these pronouns (case-insensitive)\n",
        "pattern = r'\\b(?:' + '|'.join(re.escape(word) for word in personal_pronouns) + r')\\b'\n",
        "\n",
        "# Use regex to find and count the pronouns in the text\n",
        "pronoun_counts = {pronoun: len(re.findall(pronoun, text, flags=re.IGNORECASE)) for pronoun in personal_pronouns}\n",
        "\n",
        "# Print the counts\n",
        "for pronoun, count in pronoun_counts.items():\n",
        "    print(f\"{pronoun}: {count}\")"
      ]
    },
    {
      "cell_type": "markdown",
      "id": "2b01b593",
      "metadata": {
        "id": "2b01b593"
      },
      "source": [
        "# Average word length"
      ]
    },
    {
      "cell_type": "code",
      "execution_count": null,
      "id": "c3389a8f",
      "metadata": {
        "id": "c3389a8f"
      },
      "outputs": [],
      "source": [
        "text23 = str(doc)\n",
        "total_words_in_text=([len(word) for word in text23])\n",
        "total_words_in_text = sum(total_words_in_text)"
      ]
    },
    {
      "cell_type": "code",
      "execution_count": null,
      "id": "0d366a77",
      "metadata": {
        "id": "0d366a77",
        "outputId": "db948a24-d055-48f8-e50e-f2a83c41f1f6"
      },
      "outputs": [
        {
          "data": {
            "text/plain": [
              "5.488262910798122"
            ]
          },
          "execution_count": 234,
          "metadata": {},
          "output_type": "execute_result"
        }
      ],
      "source": [
        "average_word_length = total_words_in_text/total_number_of_words\n",
        "average_word_length"
      ]
    }
  ],
  "metadata": {
    "kernelspec": {
      "display_name": "Python 3 (ipykernel)",
      "language": "python",
      "name": "python3"
    },
    "language_info": {
      "codemirror_mode": {
        "name": "ipython",
        "version": 3
      },
      "file_extension": ".py",
      "mimetype": "text/x-python",
      "name": "python",
      "nbconvert_exporter": "python",
      "pygments_lexer": "ipython3",
      "version": "3.11.2"
    },
    "colab": {
      "provenance": []
    }
  },
  "nbformat": 4,
  "nbformat_minor": 5
}